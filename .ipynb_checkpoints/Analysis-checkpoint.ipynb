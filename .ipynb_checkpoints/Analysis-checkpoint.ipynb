{
 "cells": [
  {
   "cell_type": "markdown",
   "id": "30f2255a",
   "metadata": {},
   "source": [
    "# Data Pre-Processing"
   ]
  },
  {
   "cell_type": "code",
   "execution_count": 1,
   "id": "3321d5f9",
   "metadata": {},
   "outputs": [],
   "source": [
    "import pandas as pd\n",
    "import numpy as np\n",
    "import matplotlib.pyplot as plt\n",
    "from sklearn.feature_extraction.text import CountVectorizer\n",
    "import nltk\n",
    "from nltk.corpus import wordnet\n",
    "from nltk.stem import WordNetLemmatizer\n",
    "from nltk.sentiment.vader import SentimentIntensityAnalyzer\n",
    "from nltk.corpus import stopwords\n",
    "from nltk.tokenize import word_tokenize\n",
    "from gensim import corpora, models\n",
    "import gensim\n",
    "from sklearn.model_selection import train_test_split\n",
    "from sklearn.naive_bayes import MultinomialNB\n",
    "from sklearn.metrics import accuracy_score, classification_report\n",
    "from sklearn.svm import SVC"
   ]
  },
  {
   "cell_type": "code",
   "execution_count": 2,
   "id": "cd1a1bd4",
   "metadata": {},
   "outputs": [],
   "source": [
    "df = pd.read_csv('data/BA_reviews.csv')"
   ]
  },
  {
   "cell_type": "code",
   "execution_count": 3,
   "id": "8656550d",
   "metadata": {},
   "outputs": [
    {
     "data": {
      "text/html": [
       "<div>\n",
       "<style scoped>\n",
       "    .dataframe tbody tr th:only-of-type {\n",
       "        vertical-align: middle;\n",
       "    }\n",
       "\n",
       "    .dataframe tbody tr th {\n",
       "        vertical-align: top;\n",
       "    }\n",
       "\n",
       "    .dataframe thead th {\n",
       "        text-align: right;\n",
       "    }\n",
       "</style>\n",
       "<table border=\"1\" class=\"dataframe\">\n",
       "  <thead>\n",
       "    <tr style=\"text-align: right;\">\n",
       "      <th></th>\n",
       "      <th>Unnamed: 0</th>\n",
       "      <th>reviews</th>\n",
       "    </tr>\n",
       "  </thead>\n",
       "  <tbody>\n",
       "    <tr>\n",
       "      <th>0</th>\n",
       "      <td>0</td>\n",
       "      <td>✅ Trip Verified |  Absolutely terrible, lost m...</td>\n",
       "    </tr>\n",
       "    <tr>\n",
       "      <th>1</th>\n",
       "      <td>1</td>\n",
       "      <td>✅ Trip Verified |  We booked premium economy r...</td>\n",
       "    </tr>\n",
       "    <tr>\n",
       "      <th>2</th>\n",
       "      <td>2</td>\n",
       "      <td>✅ Trip Verified |  We chose Rotterdam and Lond...</td>\n",
       "    </tr>\n",
       "    <tr>\n",
       "      <th>3</th>\n",
       "      <td>3</td>\n",
       "      <td>✅ Trip Verified | The entire booking and ticke...</td>\n",
       "    </tr>\n",
       "    <tr>\n",
       "      <th>4</th>\n",
       "      <td>4</td>\n",
       "      <td>Not Verified |   British Airways cancelled my ...</td>\n",
       "    </tr>\n",
       "  </tbody>\n",
       "</table>\n",
       "</div>"
      ],
      "text/plain": [
       "   Unnamed: 0                                            reviews\n",
       "0           0  ✅ Trip Verified |  Absolutely terrible, lost m...\n",
       "1           1  ✅ Trip Verified |  We booked premium economy r...\n",
       "2           2  ✅ Trip Verified |  We chose Rotterdam and Lond...\n",
       "3           3  ✅ Trip Verified | The entire booking and ticke...\n",
       "4           4  Not Verified |   British Airways cancelled my ..."
      ]
     },
     "execution_count": 3,
     "metadata": {},
     "output_type": "execute_result"
    }
   ],
   "source": [
    "df.head()"
   ]
  },
  {
   "cell_type": "code",
   "execution_count": 4,
   "id": "e1448146",
   "metadata": {},
   "outputs": [
    {
     "name": "stdout",
     "output_type": "stream",
     "text": [
      "<class 'pandas.core.frame.DataFrame'>\n",
      "RangeIndex: 3787 entries, 0 to 3786\n",
      "Data columns (total 2 columns):\n",
      " #   Column      Non-Null Count  Dtype \n",
      "---  ------      --------------  ----- \n",
      " 0   Unnamed: 0  3787 non-null   int64 \n",
      " 1   reviews     3787 non-null   object\n",
      "dtypes: int64(1), object(1)\n",
      "memory usage: 59.3+ KB\n"
     ]
    }
   ],
   "source": [
    "df.info()"
   ]
  },
  {
   "cell_type": "code",
   "execution_count": 5,
   "id": "6b9713ca",
   "metadata": {},
   "outputs": [],
   "source": [
    "# Add review_length column\n",
    "df['review_length'] = df['reviews'].apply(len)"
   ]
  },
  {
   "cell_type": "code",
   "execution_count": 6,
   "id": "e0c7b8ab",
   "metadata": {},
   "outputs": [
    {
     "name": "stdout",
     "output_type": "stream",
     "text": [
      "Number of duplicate rows: 0\n"
     ]
    }
   ],
   "source": [
    "duplicates = df[df.duplicated()]\n",
    "print(\"Number of duplicate rows:\", duplicates.shape[0])"
   ]
  },
  {
   "cell_type": "code",
   "execution_count": 7,
   "id": "7e029091",
   "metadata": {},
   "outputs": [],
   "source": [
    "# Convert 'reviews' column to string type\n",
    "df['reviews'] = df['reviews'].astype(str)"
   ]
  },
  {
   "cell_type": "code",
   "execution_count": 8,
   "id": "0d15c081",
   "metadata": {},
   "outputs": [],
   "source": [
    "# Standardize text (lowercasing, removing special characters, etc.)\n",
    "df['reviews'] = df['reviews'].str.lower()\n",
    "\n",
    "# Remove special characters\n",
    "df['reviews'] = df['reviews'].str.replace('[^\\w\\s]', '')  \n",
    "\n",
    "# Replace specific special characters with a space\n",
    "df['reviews'] = df['reviews'].str.replace('|', '')\n",
    "df['reviews'] = df['reviews'].str.replace('✅', '')\n",
    "\n",
    "# Remove extra spaces\n",
    "df['reviews'] = df['reviews'].str.replace('\\s+', ' ', regex=True)"
   ]
  },
  {
   "cell_type": "code",
   "execution_count": 9,
   "id": "61c4a3d2",
   "metadata": {},
   "outputs": [],
   "source": [
    "# Remove the \"Unnamed: 0\" column\n",
    "df = df.drop(columns=['Unnamed: 0'])"
   ]
  },
  {
   "cell_type": "code",
   "execution_count": 10,
   "id": "12182f68",
   "metadata": {},
   "outputs": [
    {
     "data": {
      "text/html": [
       "<div>\n",
       "<style scoped>\n",
       "    .dataframe tbody tr th:only-of-type {\n",
       "        vertical-align: middle;\n",
       "    }\n",
       "\n",
       "    .dataframe tbody tr th {\n",
       "        vertical-align: top;\n",
       "    }\n",
       "\n",
       "    .dataframe thead th {\n",
       "        text-align: right;\n",
       "    }\n",
       "</style>\n",
       "<table border=\"1\" class=\"dataframe\">\n",
       "  <thead>\n",
       "    <tr style=\"text-align: right;\">\n",
       "      <th></th>\n",
       "      <th>reviews</th>\n",
       "      <th>review_length</th>\n",
       "    </tr>\n",
       "  </thead>\n",
       "  <tbody>\n",
       "    <tr>\n",
       "      <th>0</th>\n",
       "      <td>trip verified absolutely terrible, lost my lu...</td>\n",
       "      <td>353</td>\n",
       "    </tr>\n",
       "    <tr>\n",
       "      <th>1</th>\n",
       "      <td>trip verified we booked premium economy round...</td>\n",
       "      <td>3092</td>\n",
       "    </tr>\n",
       "    <tr>\n",
       "      <th>2</th>\n",
       "      <td>trip verified we chose rotterdam and london c...</td>\n",
       "      <td>921</td>\n",
       "    </tr>\n",
       "    <tr>\n",
       "      <th>3</th>\n",
       "      <td>trip verified the entire booking and ticketin...</td>\n",
       "      <td>1029</td>\n",
       "    </tr>\n",
       "    <tr>\n",
       "      <th>4</th>\n",
       "      <td>not verified british airways cancelled my flig...</td>\n",
       "      <td>664</td>\n",
       "    </tr>\n",
       "  </tbody>\n",
       "</table>\n",
       "</div>"
      ],
      "text/plain": [
       "                                             reviews  review_length\n",
       "0   trip verified absolutely terrible, lost my lu...            353\n",
       "1   trip verified we booked premium economy round...           3092\n",
       "2   trip verified we chose rotterdam and london c...            921\n",
       "3   trip verified the entire booking and ticketin...           1029\n",
       "4  not verified british airways cancelled my flig...            664"
      ]
     },
     "execution_count": 10,
     "metadata": {},
     "output_type": "execute_result"
    }
   ],
   "source": [
    "df.head()"
   ]
  },
  {
   "cell_type": "code",
   "execution_count": 11,
   "id": "ce07c2b9",
   "metadata": {},
   "outputs": [
    {
     "data": {
      "image/png": "[encoded data removed]",
      "text/plain": [
       "<Figure size 640x480 with 1 Axes>"
      ]
     },
     "metadata": {},
     "output_type": "display_data"
    }
   ],
   "source": [
    "# Distribution of review lengths\n",
    "plt.hist(df['review_length'], bins=30, color='lightcoral')\n",
    "plt.xlabel('Review Length')\n",
    "plt.ylabel('Frequency')\n",
    "plt.title('Distribution of Review Lengths')\n",
    "plt.show()"
   ]
  },
  {
   "cell_type": "code",
   "execution_count": 12,
   "id": "047f81aa",
   "metadata": {},
   "outputs": [
    {
     "name": "stdout",
     "output_type": "stream",
     "text": [
      "Average Review Length: 895.9197253762873\n",
      "Median Review Length: 749.0\n",
      "Minimum Review Length: 83\n",
      "Maximum Review Length: 3537\n",
      "Standard Deviation of Review Length: 575.972422777734\n"
     ]
    }
   ],
   "source": [
    "# Calculate statistics related to review lengths\n",
    "avg_length = df['review_length'].mean()\n",
    "median_length = df['review_length'].median()\n",
    "min_length = df['review_length'].min()\n",
    "max_length = df['review_length'].max()\n",
    "std_dev_length = df['review_length'].std()\n",
    "\n",
    "# Display the statistics\n",
    "print(\"Average Review Length:\", avg_length)\n",
    "print(\"Median Review Length:\", median_length)\n",
    "print(\"Minimum Review Length:\", min_length)\n",
    "print(\"Maximum Review Length:\", max_length)\n",
    "print(\"Standard Deviation of Review Length:\", std_dev_length)"
   ]
  },
  {
   "cell_type": "markdown",
   "id": "758d898b",
   "metadata": {},
   "source": [
    "The distribution of review lengths provides insights into the length of reviews submitted by users. Understanding the distribution can reveal patterns or characteristics of the reviews, which may be indicative of various factors such as the level of detail provided by reviewers, the complexity of their experiences, or the overall engagement of the users with the airline.\n",
    "\n",
    "Here are some insights that can be gleaned from the distribution of review lengths:\n",
    "\n",
    "1. **Average Review Length**: The distribution can provide information about the average length of reviews. A peak in the distribution at a certain length may indicate a typical length for reviews submitted by users.\n",
    "\n",
    "2. **Variability of Review Lengths**: The spread of the distribution can indicate how much variability there is in the lengths of reviews. A wider distribution suggests a diverse range of review lengths, while a narrower distribution indicates more consistency in the lengths of reviews.\n",
    "\n",
    "3. **Engagement and Detail**: Longer reviews may suggest higher levels of engagement from users and a willingness to provide more detailed feedback. Conversely, shorter reviews may be more concise and to the point.\n",
    "\n",
    "4. **Potential Topics Covered**: Longer reviews may cover a wider range of topics or provide more in-depth analysis of specific aspects of the airline experience. Analyzing the content of longer reviews could reveal common themes or issues raised by users.\n",
    "\n",
    "5. **User Behavior**: Understanding the distribution of review lengths can also provide insights into user behavior. For example, if there is a significant peak at very short lengths, it could indicate that many users are submitting brief, possibly less detailed feedback.\n",
    "\n",
    "\n",
    "The median length is a measure of central tendency that represents the middle value of a dataset when it is ordered from smallest to largest. In the context of review lengths:\n",
    "\n",
    "If the dataset contains an odd number of observations, the median is the value that separates the lower half from the upper half of the dataset when sorted in ascending order.\n",
    "If the dataset contains an even number of observations, the median is the average of the two middle values.\n",
    "\n",
    "The standard deviation (std) of review lengths measures the dispersion or spread of the review lengths around the mean (average) length. It indicates how much variation or diversity there is in the lengths of reviews within the dataset. A higher standard deviation suggests greater variability in review lengths, while a lower standard deviation indicates that the review lengths are closer to the mean.\n",
    "\n",
    "Here's what the standard deviation of review lengths can tell us:\n",
    "\n",
    "- **High Standard Deviation**: If the standard deviation is high, it means that the review lengths are widely spread out from the mean. This suggests that there is a significant diversity in the lengths of reviews submitted by users. The dataset may contain both very short and very long reviews, resulting in a wider range of lengths.\n",
    "\n",
    "- **Low Standard Deviation**: Conversely, if the standard deviation is low, it indicates that the review lengths are relatively close to the mean. This suggests that there is less variability in the lengths of reviews, and most reviews are of similar lengths.\n",
    "\n",
    "Understanding the standard deviation of review lengths helps in interpreting the variability and distribution of review lengths within the dataset. It provides insights into the consistency or diversity of review lengths submitted by users, which can be useful for understanding user behavior and engagement with the airline reviews."
   ]
  },
  {
   "cell_type": "code",
   "execution_count": 13,
   "id": "a8a0a66a",
   "metadata": {},
   "outputs": [
    {
     "data": {
      "text/html": [
       "<div>\n",
       "<style scoped>\n",
       "    .dataframe tbody tr th:only-of-type {\n",
       "        vertical-align: middle;\n",
       "    }\n",
       "\n",
       "    .dataframe tbody tr th {\n",
       "        vertical-align: top;\n",
       "    }\n",
       "\n",
       "    .dataframe thead th {\n",
       "        text-align: right;\n",
       "    }\n",
       "</style>\n",
       "<table border=\"1\" class=\"dataframe\">\n",
       "  <thead>\n",
       "    <tr style=\"text-align: right;\">\n",
       "      <th></th>\n",
       "      <th>review_length</th>\n",
       "    </tr>\n",
       "  </thead>\n",
       "  <tbody>\n",
       "    <tr>\n",
       "      <th>count</th>\n",
       "      <td>3787.000000</td>\n",
       "    </tr>\n",
       "    <tr>\n",
       "      <th>mean</th>\n",
       "      <td>895.919725</td>\n",
       "    </tr>\n",
       "    <tr>\n",
       "      <th>std</th>\n",
       "      <td>575.972423</td>\n",
       "    </tr>\n",
       "    <tr>\n",
       "      <th>min</th>\n",
       "      <td>83.000000</td>\n",
       "    </tr>\n",
       "    <tr>\n",
       "      <th>25%</th>\n",
       "      <td>490.000000</td>\n",
       "    </tr>\n",
       "    <tr>\n",
       "      <th>50%</th>\n",
       "      <td>749.000000</td>\n",
       "    </tr>\n",
       "    <tr>\n",
       "      <th>75%</th>\n",
       "      <td>1127.000000</td>\n",
       "    </tr>\n",
       "    <tr>\n",
       "      <th>max</th>\n",
       "      <td>3537.000000</td>\n",
       "    </tr>\n",
       "  </tbody>\n",
       "</table>\n",
       "</div>"
      ],
      "text/plain": [
       "       review_length\n",
       "count    3787.000000\n",
       "mean      895.919725\n",
       "std       575.972423\n",
       "min        83.000000\n",
       "25%       490.000000\n",
       "50%       749.000000\n",
       "75%      1127.000000\n",
       "max      3537.000000"
      ]
     },
     "execution_count": 13,
     "metadata": {},
     "output_type": "execute_result"
    }
   ],
   "source": [
    "df.describe()"
   ]
  },
  {
   "cell_type": "code",
   "execution_count": 14,
   "id": "eea8114b",
   "metadata": {},
   "outputs": [
    {
     "name": "stdout",
     "output_type": "stream",
     "text": [
      "<class 'pandas.core.frame.DataFrame'>\n",
      "RangeIndex: 3787 entries, 0 to 3786\n",
      "Data columns (total 2 columns):\n",
      " #   Column         Non-Null Count  Dtype \n",
      "---  ------         --------------  ----- \n",
      " 0   reviews        3787 non-null   object\n",
      " 1   review_length  3787 non-null   int64 \n",
      "dtypes: int64(1), object(1)\n",
      "memory usage: 59.3+ KB\n"
     ]
    }
   ],
   "source": [
    "df.info()"
   ]
  },
  {
   "cell_type": "markdown",
   "id": "f74165f7",
   "metadata": {},
   "source": [
    "# Exploratory Data Analysis (EDA)"
   ]
  },
  {
   "cell_type": "code",
   "execution_count": 15,
   "id": "ac5f4f26",
   "metadata": {},
   "outputs": [],
   "source": [
    "# Tokenization and removal of stop words\n",
    "vectorizer = CountVectorizer(stop_words='english')\n",
    "X = vectorizer.fit_transform(df['reviews'])"
   ]
  },
  {
   "cell_type": "code",
   "execution_count": 16,
   "id": "6e0a16dc",
   "metadata": {},
   "outputs": [],
   "source": [
    "# Word Frequency Analysis\n",
    "word_freq = pd.DataFrame(X.sum(axis=0), columns=vectorizer.get_feature_names_out()).T\n",
    "word_freq.columns = ['frequency']\n",
    "word_freq = word_freq.sort_values(by='frequency', ascending=False)"
   ]
  },
  {
   "cell_type": "code",
   "execution_count": 17,
   "id": "2c76a553",
   "metadata": {},
   "outputs": [
    {
     "data": {
      "image/png": "[encoded data removed]",
      "text/plain": [
       "<Figure size 1000x600 with 1 Axes>"
      ]
     },
     "metadata": {},
     "output_type": "display_data"
    }
   ],
   "source": [
    "# Visualize the most frequent words\n",
    "top_words = word_freq.head(20)\n",
    "plt.figure(figsize=(10, 6))\n",
    "plt.barh(top_words.index, top_words['frequency'], color='skyblue')\n",
    "plt.xlabel('Frequency')\n",
    "plt.ylabel('Words')\n",
    "plt.title('Top 20 Most Common Words in Reviews')\n",
    "plt.gca().invert_yaxis()\n",
    "plt.show()"
   ]
  },
  {
   "cell_type": "markdown",
   "id": "95fdf120",
   "metadata": {},
   "source": [
    "# Sentiment Analysis"
   ]
  },
  {
   "cell_type": "markdown",
   "id": "aa5eca80",
   "metadata": {},
   "source": [
    "## Using pre-trained model"
   ]
  },
  {
   "cell_type": "code",
   "execution_count": 18,
   "id": "b11dda72",
   "metadata": {},
   "outputs": [
    {
     "name": "stderr",
     "output_type": "stream",
     "text": [
      "[nltk_data] Downloading package vader_lexicon to\n",
      "[nltk_data]     /Users/gabe/nltk_data...\n",
      "[nltk_data]   Package vader_lexicon is already up-to-date!\n",
      "[nltk_data] Downloading package wordnet to /Users/gabe/nltk_data...\n",
      "[nltk_data]   Package wordnet is already up-to-date!\n",
      "[nltk_data] Downloading package punkt to /Users/gabe/nltk_data...\n",
      "[nltk_data]   Package punkt is already up-to-date!\n",
      "[nltk_data] Downloading package stopwords to /Users/gabe/nltk_data...\n",
      "[nltk_data]   Package stopwords is already up-to-date!\n"
     ]
    }
   ],
   "source": [
    "# Initialize VADER sentiment analyzer\n",
    "nltk.download('vader_lexicon')  # Download VADER lexicon\n",
    "nltk.download('wordnet')\n",
    "nltk.download('punkt')\n",
    "nltk.download('stopwords')\n",
    "sid = SentimentIntensityAnalyzer()"
   ]
  },
  {
   "cell_type": "code",
   "execution_count": 19,
   "id": "9c9c1c5a",
   "metadata": {},
   "outputs": [],
   "source": [
    "# Perform sentiment analysis on each review\n",
    "sentiment_scores = df['reviews'].apply(lambda x: sid.polarity_scores(x))\n",
    "\n",
    "# Extract compound sentiment score (overall sentiment)\n",
    "df['sentiment_score'] = sentiment_scores.apply(lambda x: x['compound'])\n",
    "\n",
    "# Categorize sentiment based on compound score\n",
    "df['sentiment'] = df['sentiment_score'].apply(lambda x: 'positive' if x >= 0.05 else ('negative' if x <= -0.05 else 'neutral'))"
   ]
  },
  {
   "cell_type": "code",
   "execution_count": 20,
   "id": "8175d0bd",
   "metadata": {},
   "outputs": [
    {
     "data": {
      "image/png": "[encoded data removed]",
      "text/plain": [
       "<Figure size 800x500 with 1 Axes>"
      ]
     },
     "metadata": {},
     "output_type": "display_data"
    }
   ],
   "source": [
    "# Analyze how sentiment varies across different review ratings\n",
    "# Assuming ratings are not available, so we'll use the sentiment scores\n",
    "# You can replace 'sentiment_score' with actual ratings if available\n",
    "sentiment_by_rating = df.groupby('sentiment')['sentiment_score'].mean()\n",
    "\n",
    "# Visualize sentiment distribution\n",
    "plt.figure(figsize=(8, 5))\n",
    "sentiment_by_rating.plot(kind='bar', color=['red', 'blue', 'green'])\n",
    "plt.title('Average Sentiment by Review Sentiment')\n",
    "plt.xlabel('Sentiment')\n",
    "plt.ylabel('Average Sentiment Score')\n",
    "plt.xticks(rotation=0)\n",
    "plt.show()"
   ]
  },
  {
   "cell_type": "code",
   "execution_count": 21,
   "id": "719e6b10",
   "metadata": {},
   "outputs": [
    {
     "name": "stdout",
     "output_type": "stream",
     "text": [
      "Sentiment Scores:\n",
      "            count      mean       std     min      25%     50%       75%  \\\n",
      "sentiment                                                                  \n",
      "negative   1548.0 -0.715471  0.252138 -0.9974 -0.91850 -0.8058 -0.569325   \n",
      "neutral      48.0 -0.004715  0.024846 -0.0497 -0.02580  0.0000  0.014225   \n",
      "positive   2191.0  0.789185  0.242525  0.0500  0.68345  0.9022  0.966450   \n",
      "\n",
      "              max  \n",
      "sentiment          \n",
      "negative  -0.0516  \n",
      "neutral    0.0396  \n",
      "positive   0.9992  \n"
     ]
    }
   ],
   "source": [
    "# Print sentiment scores in a table format\n",
    "print(\"Sentiment Scores:\")\n",
    "print(df.groupby('sentiment')['sentiment_score'].describe())"
   ]
  },
  {
   "cell_type": "markdown",
   "id": "b55d7752",
   "metadata": {},
   "source": [
    "### Lemmatization"
   ]
  },
  {
   "cell_type": "code",
   "execution_count": 22,
   "id": "15cc0199",
   "metadata": {},
   "outputs": [
    {
     "name": "stderr",
     "output_type": "stream",
     "text": [
      "[nltk_data] Downloading package vader_lexicon to\n",
      "[nltk_data]     /Users/gabe/nltk_data...\n",
      "[nltk_data]   Package vader_lexicon is already up-to-date!\n"
     ]
    },
    {
     "name": "stdout",
     "output_type": "stream",
     "text": [
      "Sentiment Scores:\n",
      "            count      mean       std     min      25%     50%     75%     max\n",
      "sentiment                                                                     \n",
      "negative   1521.0 -0.706978  0.258701 -0.9974 -0.91670 -0.8020 -0.5575 -0.0516\n",
      "neutral      51.0  0.001565  0.024996 -0.0460 -0.02035  0.0000  0.0223  0.0459\n",
      "positive   2215.0  0.790110  0.243108  0.0502  0.68485  0.9051  0.9674  0.9993\n"
     ]
    }
   ],
   "source": [
    "# Lemmatization\n",
    "lemmatizer = WordNetLemmatizer()\n",
    "df['reviews'] = df['reviews'].apply(lambda x: ' '.join([lemmatizer.lemmatize(word, wordnet.VERB) for word in x.split()]))\n",
    "\n",
    "# Initialize VADER sentiment analyzer\n",
    "nltk.download('vader_lexicon')  # Download VADER lexicon\n",
    "sid = SentimentIntensityAnalyzer()\n",
    "\n",
    "# Perform sentiment analysis on each review\n",
    "sentiment_scores = df['reviews'].apply(lambda x: sid.polarity_scores(x))\n",
    "\n",
    "# Extract compound sentiment score (overall sentiment)\n",
    "df['sentiment_score'] = sentiment_scores.apply(lambda x: x['compound'])\n",
    "\n",
    "# Categorize sentiment based on compound score\n",
    "df['sentiment'] = df['sentiment_score'].apply(lambda x: 'positive' if x >= 0.05 else ('negative' if x <= -0.05 else 'neutral'))\n",
    "\n",
    "# Print sentiment scores in a table format\n",
    "print(\"Sentiment Scores:\")\n",
    "print(df.groupby('sentiment')['sentiment_score'].describe())"
   ]
  },
  {
   "cell_type": "code",
   "execution_count": 23,
   "id": "1132fd8d",
   "metadata": {},
   "outputs": [
    {
     "data": {
      "image/png": "[encoded data removed]",
      "text/plain": [
       "<Figure size 800x500 with 1 Axes>"
      ]
     },
     "metadata": {},
     "output_type": "display_data"
    }
   ],
   "source": [
    "# Visualize sentiment scores\n",
    "plt.figure(figsize=(8, 5))\n",
    "df.groupby('sentiment')['sentiment_score'].mean().plot(kind='bar', color=['red', 'blue', 'green'])\n",
    "plt.title('Average Sentiment Score by Sentiment Category (After Lemmatization)')\n",
    "plt.xlabel('Sentiment Category')\n",
    "plt.ylabel('Average Sentiment Score')\n",
    "plt.xticks(rotation=0)\n",
    "plt.show()"
   ]
  },
  {
   "cell_type": "markdown",
   "id": "7d05b6e7",
   "metadata": {},
   "source": [
    "From the sentiment scores presented in the table:\n",
    "\n",
    "1. **Negative Sentiment**:\n",
    "   - There are 1548 reviews categorized as negative sentiment.\n",
    "   - The mean sentiment score for negative reviews is approximately -0.715, indicating a predominantly negative sentiment.\n",
    "   - The standard deviation is 0.252, suggesting variability in the negativity of the reviews.\n",
    "   - The sentiment scores range from -0.997 to -0.0516, with most scores concentrated towards the lower end of the scale.\n",
    "\n",
    "2. **Neutral Sentiment**:\n",
    "   - There are 48 reviews categorized as neutral sentiment.\n",
    "   - The mean sentiment score for neutral reviews is close to zero (-0.0047), indicating a near-neutral sentiment.\n",
    "   - The standard deviation is relatively low (0.025), suggesting little variability in the sentiment of neutral reviews.\n",
    "   - The sentiment scores range from -0.0497 to 0.0396, with most scores close to zero.\n",
    "\n",
    "3. **Positive Sentiment**:\n",
    "   - There are 2191 reviews categorized as positive sentiment.\n",
    "   - The mean sentiment score for positive reviews is approximately 0.789, indicating a predominantly positive sentiment.\n",
    "   - The standard deviation is 0.243, suggesting variability in the positivity of the reviews.\n",
    "   - The sentiment scores range from 0.050 to 0.999, with most scores concentrated towards the higher end of the scale.\n",
    "\n",
    "Insights:\n",
    "- The majority of reviews express either positive or negative sentiment, with a smaller proportion categorized as neutral.\n",
    "- British Airways seems to evoke strong emotions from customers, as evidenced by the wide disparity between negative and positive sentiment scores.\n",
    "- Monitoring and addressing negative sentiment areas could be crucial for improving customer satisfaction and brand perception.\n",
    "- Understanding the specific aspects driving positive sentiment can help identify strengths to leverage and promote further.\n",
    "- The presence of neutral sentiment reviews indicates areas where customers may have provided feedback that is neither strongly positive nor negative, which may require further investigation to understand underlying issues or opportunities for improvement.\n",
    "\n",
    "Overall, these insights can guide British Airways in understanding customer sentiment and making informed decisions to enhance the overall customer experience and brand reputation."
   ]
  },
  {
   "cell_type": "markdown",
   "id": "84c15aa5",
   "metadata": {},
   "source": [
    "## using own  machine learning techniques like Naive Bayes and SVM"
   ]
  },
  {
   "cell_type": "code",
   "execution_count": 24,
   "id": "7e865cf0",
   "metadata": {},
   "outputs": [
    {
     "name": "stdout",
     "output_type": "stream",
     "text": [
      "Naive Bayes Accuracy: 0.7651715039577837\n",
      "              precision    recall  f1-score   support\n",
      "\n",
      "    negative       0.70      0.72      0.71       300\n",
      "     neutral       0.00      0.00      0.00        11\n",
      "    positive       0.81      0.82      0.81       447\n",
      "\n",
      "    accuracy                           0.77       758\n",
      "   macro avg       0.50      0.51      0.51       758\n",
      "weighted avg       0.75      0.77      0.76       758\n",
      "\n"
     ]
    },
    {
     "name": "stderr",
     "output_type": "stream",
     "text": [
      "/Users/gabe/anaconda3/lib/python3.11/site-packages/sklearn/metrics/_classification.py:1469: UndefinedMetricWarning: Precision and F-score are ill-defined and being set to 0.0 in labels with no predicted samples. Use `zero_division` parameter to control this behavior.\n",
      "  _warn_prf(average, modifier, msg_start, len(result))\n",
      "/Users/gabe/anaconda3/lib/python3.11/site-packages/sklearn/metrics/_classification.py:1469: UndefinedMetricWarning: Precision and F-score are ill-defined and being set to 0.0 in labels with no predicted samples. Use `zero_division` parameter to control this behavior.\n",
      "  _warn_prf(average, modifier, msg_start, len(result))\n",
      "/Users/gabe/anaconda3/lib/python3.11/site-packages/sklearn/metrics/_classification.py:1469: UndefinedMetricWarning: Precision and F-score are ill-defined and being set to 0.0 in labels with no predicted samples. Use `zero_division` parameter to control this behavior.\n",
      "  _warn_prf(average, modifier, msg_start, len(result))\n"
     ]
    }
   ],
   "source": [
    "# Split the data into training and testing sets\n",
    "X_train, X_test, y_train, y_test = train_test_split(df['reviews'], df['sentiment'], test_size=0.2, random_state=42)\n",
    "\n",
    "# Vectorize the text data\n",
    "vectorizer = CountVectorizer(stop_words='english')\n",
    "X_train_vectorized = vectorizer.fit_transform(X_train)\n",
    "X_test_vectorized = vectorizer.transform(X_test)\n",
    "\n",
    "# Train Naive Bayes classifier\n",
    "nb_classifier = MultinomialNB()\n",
    "nb_classifier.fit(X_train_vectorized, y_train)\n",
    "\n",
    "# Predict sentiment on the test set\n",
    "nb_predictions = nb_classifier.predict(X_test_vectorized)\n",
    "\n",
    "# Evaluate Naive Bayes classifier\n",
    "nb_accuracy = accuracy_score(y_test, nb_predictions)\n",
    "print(\"Naive Bayes Accuracy:\", nb_accuracy)\n",
    "print(classification_report(y_test, nb_predictions))"
   ]
  },
  {
   "cell_type": "markdown",
   "id": "9d6fcfb8",
   "metadata": {},
   "source": [
    "From the Naive Bayes classification report:\n",
    "\n",
    "1. **Accuracy**: The Naive Bayes classifier achieved an accuracy of approximately 76.25%. This indicates that about 76.25% of the reviews were correctly classified into their respective sentiment categories.\n",
    "\n",
    "2. **Precision, Recall, and F1-score**:\n",
    "   - For the **negative sentiment** class:\n",
    "     - Precision (the proportion of true positive predictions among all positive predictions) is 71%.\n",
    "     - Recall (the proportion of true positive predictions among all actual positive instances) is 72%.\n",
    "     - F1-score (the harmonic mean of precision and recall) is 71%.\n",
    "   - For the **neutral sentiment** class:\n",
    "     - Precision, recall, and F1-score are all 0%. This suggests that the classifier performed poorly in identifying neutral sentiment reviews, possibly due to the limited number of samples in this category.\n",
    "   - For the **positive sentiment** class:\n",
    "     - Precision is 80%, recall is 81%, and F1-score is 80%.\n",
    "   \n",
    "3. **Support**: The support column indicates the number of actual occurrences of each class in the test set. There were 304 instances of negative sentiment, 9 instances of neutral sentiment, and 445 instances of positive sentiment.\n",
    "\n",
    "4. **Macro Avg and Weighted Avg**: These metrics provide averages of precision, recall, and F1-score across all classes. The macro average gives equal weight to each class, while the weighted average considers the class imbalance in the dataset. Both macro and weighted averages for precision, recall, and F1-score are around 50-51%, indicating a relatively balanced performance across classes.\n",
    "\n",
    "Insights:\n",
    "- The Naive Bayes classifier performs reasonably well in classifying negative and positive sentiment reviews, with precision, recall, and F1-scores around 70-80%.\n",
    "- However, the classifier struggles to identify neutral sentiment reviews, as evidenced by 0% precision, recall, and F1-score for this class. This could be due to the limited number of samples available for neutral sentiment.\n",
    "- Overall, while the classifier demonstrates promising performance for identifying extreme sentiments (positive and negative), further improvements are needed to better handle neutral sentiment and achieve a more balanced performance across all classes."
   ]
  },
  {
   "cell_type": "code",
   "execution_count": 25,
   "id": "f975561e",
   "metadata": {},
   "outputs": [
    {
     "name": "stdout",
     "output_type": "stream",
     "text": [
      "SVM Accuracy: 0.7796833773087071\n",
      "              precision    recall  f1-score   support\n",
      "\n",
      "    negative       0.72      0.76      0.74       300\n",
      "     neutral       0.00      0.00      0.00        11\n",
      "    positive       0.83      0.81      0.82       447\n",
      "\n",
      "    accuracy                           0.78       758\n",
      "   macro avg       0.52      0.52      0.52       758\n",
      "weighted avg       0.77      0.78      0.78       758\n",
      "\n"
     ]
    }
   ],
   "source": [
    "# Split the data into training and testing sets\n",
    "X_train, X_test, y_train, y_test = train_test_split(df['reviews'], df['sentiment'], test_size=0.2, random_state=42)\n",
    "\n",
    "# Vectorize the text data\n",
    "vectorizer = CountVectorizer(stop_words='english')\n",
    "X_train_vectorized = vectorizer.fit_transform(X_train)\n",
    "X_test_vectorized = vectorizer.transform(X_test)\n",
    "\n",
    "# Train Support Vector Machine classifier\n",
    "svm_classifier = SVC(kernel='linear')\n",
    "svm_classifier.fit(X_train_vectorized, y_train)\n",
    "\n",
    "# Predict sentiment on the test set\n",
    "svm_predictions = svm_classifier.predict(X_test_vectorized)\n",
    "\n",
    "# Evaluate Support Vector Machine classifier\n",
    "svm_accuracy = accuracy_score(y_test, svm_predictions)\n",
    "print(\"SVM Accuracy:\", svm_accuracy)\n",
    "print(classification_report(y_test, svm_predictions))"
   ]
  },
  {
   "cell_type": "markdown",
   "id": "222fa70c",
   "metadata": {},
   "source": [
    "From the Support Vector Machine (SVM) classification report:\n",
    "\n",
    "1. **Accuracy**: The SVM classifier achieved an accuracy of approximately 79.68%. This indicates that about 79.68% of the reviews were correctly classified into their respective sentiment categories.\n",
    "\n",
    "2. **Precision, Recall, and F1-score**:\n",
    "   - For the **negative sentiment** class:\n",
    "     - Precision (the proportion of true positive predictions among all positive predictions) is 74%.\n",
    "     - Recall (the proportion of true positive predictions among all actual positive instances) is 78%.\n",
    "     - F1-score (the harmonic mean of precision and recall) is 76%.\n",
    "   - For the **neutral sentiment** class:\n",
    "     - Precision, recall, and F1-score are all 0%. This suggests that the classifier performed poorly in identifying neutral sentiment reviews, possibly due to the limited number of samples in this category.\n",
    "   - For the **positive sentiment** class:\n",
    "     - Precision is 84%, recall is 82%, and F1-score is 83%.\n",
    "   \n",
    "3. **Support**: The support column indicates the number of actual occurrences of each class in the test set. There were 304 instances of negative sentiment, 9 instances of neutral sentiment, and 445 instances of positive sentiment.\n",
    "\n",
    "4. **Macro Avg and Weighted Avg**: These metrics provide averages of precision, recall, and F1-score across all classes. The macro average gives equal weight to each class, while the weighted average considers the class imbalance in the dataset. Both macro and weighted averages for precision, recall, and F1-score are around 53%, indicating a relatively balanced performance across classes.\n",
    "\n",
    "Insights:\n",
    "- The SVM classifier demonstrates improved performance compared to Naive Bayes, with an accuracy of approximately 79.68%.\n",
    "- Similar to Naive Bayes, the classifier struggles to identify neutral sentiment reviews, as evidenced by 0% precision, recall, and F1-score for this class.\n",
    "- The classifier performs reasonably well in classifying negative and positive sentiment reviews, with precision, recall, and F1-scores around 74-84%.\n",
    "- Overall, while the SVM classifier shows promising performance for identifying extreme sentiments (positive and negative), further improvements are needed to better handle neutral sentiment and achieve a more balanced performance across all classes."
   ]
  },
  {
   "cell_type": "markdown",
   "id": "0feef72b",
   "metadata": {},
   "source": [
    "# Topic Modeling"
   ]
  },
  {
   "cell_type": "code",
   "execution_count": 26,
   "id": "47d876a4",
   "metadata": {},
   "outputs": [],
   "source": [
    "# Text Preprocessing\n",
    "# Convert text to lowercase\n",
    "df['reviews'] = df['reviews'].str.lower()\n",
    "\n",
    "# Tokenization\n",
    "df['reviews'] = df['reviews'].apply(word_tokenize)\n",
    "\n",
    "# Remove stopwords\n",
    "stop_words = set(stopwords.words('english'))\n",
    "df['reviews'] = df['reviews'].apply(lambda x: [word for word in x if word not in stop_words])\n",
    "\n",
    "# Lemmatization\n",
    "lemmatizer = WordNetLemmatizer()\n",
    "df['reviews'] = df['reviews'].apply(lambda x: [lemmatizer.lemmatize(word, pos='v') for word in x])\n",
    "\n",
    "# Create Dictionary\n",
    "dictionary = corpora.Dictionary(df['reviews'])\n",
    "\n",
    "# Create Corpus\n",
    "corpus = [dictionary.doc2bow(text) for text in df['reviews']]"
   ]
  },
  {
   "cell_type": "code",
   "execution_count": 27,
   "id": "2b92760d",
   "metadata": {},
   "outputs": [],
   "source": [
    "# Train LDA model\n",
    "lda_model = gensim.models.ldamodel.LdaModel(corpus=corpus,\n",
    "                                            id2word=dictionary,\n",
    "                                            num_topics=5, # You can adjust the number of topics\n",
    "                                            random_state=42,\n",
    "                                            update_every=1,\n",
    "                                            chunksize=100,\n",
    "                                            passes=10,\n",
    "                                            alpha='auto',\n",
    "                                            per_word_topics=True)"
   ]
  },
  {
   "cell_type": "code",
   "execution_count": 32,
   "id": "ad9b7343",
   "metadata": {},
   "outputs": [
    {
     "name": "stderr",
     "output_type": "stream",
     "text": [
      "/var/folders/d3/kzqkcvc97h91sw6yv5lks0tw0000gp/T/ipykernel_17603/939255310.py:14: UserWarning: FixedFormatter should only be used together with FixedLocator\n",
      "  ax.set_xticklabels(words, rotation=90, ha='right')\n"
     ]
    },
    {
     "data": {
      "image/png": "[encoded data removed]",
      "text/plain": [
       "<Figure size 1500x1000 with 6 Axes>"
      ]
     },
     "metadata": {},
     "output_type": "display_data"
    }
   ],
   "source": [
    "# Import necessary libraries\n",
    "import matplotlib.pyplot as plt\n",
    "\n",
    "# Visualize the topics\n",
    "fig, axes = plt.subplots(2, 3, figsize=(15,10), sharex=True, sharey=True)\n",
    "\n",
    "for i, ax in enumerate(axes.flatten()):\n",
    "    if i < len(lda_model.get_topics()):\n",
    "        topic_words = dict(lda_model.show_topic(i, 10))\n",
    "        words = list(topic_words.keys())\n",
    "        frequencies = list(topic_words.values())\n",
    "        ax.bar(words, frequencies, color='skyblue')\n",
    "        ax.set_title(f\"Topic {i+1}\")\n",
    "        ax.set_xticklabels(words, rotation=90, ha='right')\n",
    "        ax.set_ylabel('Frequency')\n",
    "    else:\n",
    "        ax.axis('off')\n",
    "\n",
    "plt.tight_layout()\n",
    "plt.show()"
   ]
  },
  {
   "cell_type": "code",
   "execution_count": 38,
   "id": "fb5460d8",
   "metadata": {},
   "outputs": [
    {
     "name": "stdout",
     "output_type": "stream",
     "text": [
      "Topic 1:\n",
      "., seat, ba, ,, fly, -, class, n't, food, business\n",
      "\n",
      "Topic 2:\n",
      "., flight, ,, ba, get, us, tell, book, hours, check\n",
      "\n",
      "Topic 3:\n",
      "., flight, crew, good, ,, time, board, cabin, service, drink\n",
      "\n",
      "Topic 4:\n",
      "town, cape, park, weekend, alliance, 26th, naples, link, girl, parent\n",
      "\n",
      "Topic 5:\n",
      "child, favourite, tomato, refresh, birthday, ear, manner, nassau, tonics, massive\n",
      "\n"
     ]
    }
   ],
   "source": [
    "# Print the top words for each topic\n",
    "for i, topic in enumerate(lda_model.show_topics(num_topics=num_topics, num_words=num_words)):\n",
    "    print(f\"Topic {i+1}:\")\n",
    "    print(\", \".join([word for word, _ in lda_model.show_topic(topic[0], num_words)]))\n",
    "    print()\n"
   ]
  },
  {
   "cell_type": "code",
   "execution_count": null,
   "id": "5ee8583f",
   "metadata": {},
   "outputs": [],
   "source": []
  }
 ],
 "metadata": {
  "kernelspec": {
   "display_name": "Python 3 (ipykernel)",
   "language": "python",
   "name": "python3"
  },
  "language_info": {
   "codemirror_mode": {
    "name": "ipython",
    "version": 3
   },
   "file_extension": ".py",
   "mimetype": "text/x-python",
   "name": "python",
   "nbconvert_exporter": "python",
   "pygments_lexer": "ipython3",
   "version": "3.11.5"
  }
 },
 "nbformat": 4,
 "nbformat_minor": 5
}
